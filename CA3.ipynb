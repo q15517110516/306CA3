{
 "cells": [
  {
   "cell_type": "code",
   "execution_count": 1,
   "metadata": {
    "collapsed": true
   },
   "outputs": [],
   "source": [
    "import numpy as np"
   ]
  },
  {
   "cell_type": "code",
   "execution_count": 2,
   "metadata": {
    "collapsed": true
   },
   "outputs": [],
   "source": [
    "def sine_sine_wave(f1, f2, tone_length, Fs):\n",
    "    s1 = sine_wave(f1, tone_length, Fs)\n",
    "    s2 = sine_wave(f2, tone_length, Fs)\n",
    "    ss = s1 + s2\n",
    "    sa = numpy.divide(ss,2.0)\n",
    "    return sa"
   ]
  },
  {
   "cell_type": "code",
   "execution_count": 3,
   "metadata": {
    "collapsed": true
   },
   "outputs": [],
   "source": [
    "def sine_wave(freqz, tone_length, Fs):\n",
    "    tone_length = int(tone_length * Fs)\n",
    "    fctor = float(freqz) * (math.pi * 2) / Fs\n",
    "    return numpy.sin(numpy.arange(tone_length) * factor)\n"
   ]
  },
  {
   "cell_type": "code",
   "execution_count": 4,
   "metadata": {
    "collapsed": true
   },
   "outputs": [],
   "source": [
    "def dtmf_tone(stream, digits, tone_length=0.5, Fs=8000):\n",
    "    dtmf_freqz = {'1':(1209, 697), '2':(1336, 697), '3':(1477, 697), 'A':(1633, 697),\n",
    "              '4':(1209, 770), '5':(1336, 770), '6':(1477, 770), 'B':(1633, 770),\n",
    "              '7':(1209, 852), '8':(1336, 852), '9':(1477, 852), 'C':(1633, 852),\n",
    "              '*':(1209, 941), '0':(1336, 941), '#':(1477, 941), 'D':(1633, 941)}\n",
    "    dtmf_digits = ['1', '2', '3', '4', '5', '6', '7', '8', '9', '0', '*', '#', 'A', 'B', 'C', 'D']   "
   ]
  },
  {
   "cell_type": "code",
   "execution_count": 5,
   "metadata": {},
   "outputs": [
    {
     "name": "stderr",
     "output_type": "stream",
     "text": [
      "D:\\Anaconda\\lib\\site-packages\\ipykernel_launcher.py:4: DeprecationWarning: object of type <class 'float'> cannot be safely interpreted as an integer.\n",
      "  after removing the cwd from sys.path.\n",
      "D:\\Anaconda\\lib\\site-packages\\ipykernel_launcher.py:5: DeprecationWarning: object of type <class 'float'> cannot be safely interpreted as an integer.\n",
      "  \"\"\"\n"
     ]
    }
   ],
   "source": [
    "Fs = 8000\n",
    "time = 0.5\n",
    "delayTime = 0.1\n",
    "runtime = np.linspace(0, time, time*Fs+1)\n",
    "detime = np.linspace(0, delayTime, delayTime*Fs+1)\n",
    "index = 0\n",
    "lowfreqz = 0\n",
    "hifreqz = 0\n",
    "totalfreqz = 0"
   ]
  },
  {
   "cell_type": "code",
   "execution_count": 6,
   "metadata": {
    "scrolled": true
   },
   "outputs": [
    {
     "ename": "NameError",
     "evalue": "name 'Input' is not defined",
     "output_type": "error",
     "traceback": [
      "\u001b[1;31m---------------------------------------------------------------------------\u001b[0m",
      "\u001b[1;31mNameError\u001b[0m                                 Traceback (most recent call last)",
      "\u001b[1;32m<ipython-input-6-cf40d75c66af>\u001b[0m in \u001b[0;36m<module>\u001b[1;34m()\u001b[0m\n\u001b[1;32m----> 1\u001b[1;33m \u001b[1;32mif\u001b[0m \u001b[0mInput\u001b[0m\u001b[1;33m[\u001b[0m\u001b[0mindex\u001b[0m\u001b[1;33m]\u001b[0m \u001b[1;33m==\u001b[0m \u001b[1;36m1\u001b[0m\u001b[1;33m:\u001b[0m\u001b[1;33m\u001b[0m\u001b[0m\n\u001b[0m\u001b[0;32m      2\u001b[0m     \u001b[0mlowfreqz\u001b[0m \u001b[1;33m=\u001b[0m \u001b[0mnp\u001b[0m\u001b[1;33m.\u001b[0m\u001b[0msin\u001b[0m\u001b[1;33m(\u001b[0m\u001b[1;36m2\u001b[0m\u001b[1;33m*\u001b[0m\u001b[0mnp\u001b[0m\u001b[1;33m.\u001b[0m\u001b[0mpi\u001b[0m\u001b[1;33m*\u001b[0m\u001b[1;36m697\u001b[0m\u001b[1;33m*\u001b[0m\u001b[0mrunningTime\u001b[0m\u001b[1;33m)\u001b[0m\u001b[1;33m\u001b[0m\u001b[0m\n\u001b[0;32m      3\u001b[0m     \u001b[0mhifreqzz\u001b[0m \u001b[1;33m=\u001b[0m \u001b[0mnp\u001b[0m\u001b[1;33m.\u001b[0m\u001b[0msin\u001b[0m\u001b[1;33m(\u001b[0m\u001b[1;36m2\u001b[0m\u001b[1;33m*\u001b[0m\u001b[0mnp\u001b[0m\u001b[1;33m.\u001b[0m\u001b[0mpi\u001b[0m\u001b[1;33m*\u001b[0m\u001b[1;36m1209\u001b[0m\u001b[1;33m*\u001b[0m\u001b[0mrunningTime\u001b[0m\u001b[1;33m)\u001b[0m\u001b[1;33m\u001b[0m\u001b[0m\n\u001b[0;32m      4\u001b[0m     \u001b[0mtotalfreqzz\u001b[0m \u001b[1;33m=\u001b[0m \u001b[0mlofreqz\u001b[0m \u001b[1;33m+\u001b[0m \u001b[0mhifreqz\u001b[0m\u001b[1;33m\u001b[0m\u001b[0m\n\u001b[0;32m      5\u001b[0m     \u001b[0msound\u001b[0m\u001b[1;33m.\u001b[0m\u001b[0mappend\u001b[0m\u001b[1;33m(\u001b[0m\u001b[0mlofreqz\u001b[0m \u001b[1;33m+\u001b[0m \u001b[0mhifreqz\u001b[0m\u001b[1;33m)\u001b[0m\u001b[1;33m\u001b[0m\u001b[0m\n",
      "\u001b[1;31mNameError\u001b[0m: name 'Input' is not defined"
     ]
    }
   ],
   "source": [
    "if Input[index] == 1:\n",
    "    lowfreqz = np.sin(2*np.pi*697*runningTime) \n",
    "    hifreqzz = np.sin(2*np.pi*1209*runningTime)\n",
    "    totalfreqzz = lofreqz + hifreqz\n",
    "    sound.append(lofreqz + hifreqz)\n",
    "    sound.append(delay)\n",
    "\n",
    "elif Input[index] == 2:\n",
    "    lofreqz = np.sin(2*np.pi*697*runningTime) \n",
    "    hifreqz = np.sin(2*np.pi*1336*runningTime)\n",
    "    totalfreqz = lofreqz + hifreqz\n",
    "    sound.append(lofreqz + hifreqz)\n",
    "    sound.append(delay)\n",
    "\n",
    "elif Input[index] == 3:\n",
    "    lofreqz = np.sin(2*np.pi*697*runningTime) \n",
    "    hifreqz = np.sin(2*np.pi*1447*runningTime)\n",
    "    totalfreqz = lofreqz + hifreqz\n",
    "    sound.append(lofreqz + hifreqz)\n",
    "    sound.append(delay)\n",
    "\n",
    "elif Input[index] == 'A' or 'a':\n",
    "    lofreqz = np.sin(2*np.pi*697*runningTime) \n",
    "    hifreqz = np.sin(2*np.pi*1633*runningTime)\n",
    "    totalfreqz = lofreqz + hifreqz\n",
    "    sound.append(lofreqz + hifreqz)\n",
    "    sound.append(delay)\n",
    "\n",
    "elif Input[index] == 4:\n",
    "    lofreqz = np.sin(2*np.pi*770*runningTime) \n",
    "    hifreqz = np.sin(2*np.pi*1209*runningTime)\n",
    "    totalfreqz = lofreqz + hifreqz\n",
    "    sound.append(lofreqz + hifreqz)\n",
    "    sound.append(delay)\n",
    "\n",
    "elif Input[index] == 5:\n",
    "    lofreqz = np.sin(2*np.pi*770*runningTime) \n",
    "    hifreqz = np.sin(2*np.pi*1336*runningTime)\n",
    "    totalfreqz = lofreqz + hifreqz\n",
    "    sound.append(lofreqz + hifreqz)\n",
    "    sound.append(delay)\n",
    "\n",
    "elif Input[index] == 6:\n",
    "    lofreqz = np.sin(2*np.pi*770*runningTime) \n",
    "    hifreqz = np.sin(2*np.pi*1447*runningTime)\n",
    "    totalfreqz = lofreqz + hifreqz\n",
    "    sound.append(lofreqz + hifreqz)\n",
    "    sound.append(delay)\n",
    "\n",
    "elif Input[index] == 'B' or 'b':\n",
    "    lofreqz = np.sin(2*np.pi*770*runningTime) \n",
    "    hifreqz = np.sin(2*np.pi*1633*runningTime)\n",
    "    totalfreqz = lofreqz + hifreqz\n",
    "    sound.append(lofreqz + hifreqz)\n",
    "    sound.append(delay)\n",
    "\n",
    "elif Input[index] == 7:\n",
    "    lofreqz = np.sin(2*np.pi*852*runningTime) \n",
    "    hifreqz = np.sin(2*np.pi*1209*runningTime)\n",
    "    totalfreqz = lofreqz + hifreqz\n",
    "    sound.append(lofreqz + hifreqz)\n",
    "    sound.append(delay)\n",
    "\n",
    "elif Input[index] == 8:\n",
    "    lofreqz = np.sin(2*np.pi*852*runningTime) \n",
    "    hifreqz = np.sin(2*np.pi*1336*runningTime)\n",
    "    totalfreqz = lofreqz + hifreqz\n",
    "    sound.append(lofreqz + hifreqz)\n",
    "    sound.append(delay)\n",
    "\n",
    "elif Input[index] == 9:\n",
    "    lofreqz = np.sin(2*np.pi*852*runningTime) \n",
    "    hifreqz = np.sin(2*np.pi*1477*runningTime)\n",
    "    totalfreqz = lofreqz + hifreqz\n",
    "    sound.append(lofreqz + hifreqz)\n",
    "    sound.append(delay)\n",
    "\n",
    "elif Input[index] == 'C' or 'c':\n",
    "    lofreqz = np.sin(2*np.pi*852*runningTime) \n",
    "    hifreqz = np.sin(2*np.pi*1633*runningTime)\n",
    "    totalfreqz = lofreqz + hifreqz\n",
    "    sound.append(lofreqz + hifreqz)\n",
    "    sound.append(delay)\n",
    "\n",
    "elif Input[index] == '*':\n",
    "    lofreqz = np.sin(2*np.pi*941*runningTime) \n",
    "    hifreqz = np.sin(2*np.pi*1209*runningTime)\n",
    "    totalfreqz = lofreqz + hifreqz\n",
    "    sound.append(lofreqz + hifreqz)\n",
    "    sound.append(delay)\n",
    "\n",
    "elif Input[index] == 0:\n",
    "    lofreqz = np.sin(2*np.pi*941*runningTime) \n",
    "    hifreqz = np.sin(2*np.pi*1336*runningTime)\n",
    "    totalfreqz = lofreqz + hifreqz\n",
    "    sound.append(lofreqz + hifreqz)\n",
    "    sound.append(delay)\n",
    "\n",
    "elif Input[index] == '#':\n",
    "    lofreqz = np.sin(2*np.pi*941*runningTime) \n",
    "    hifreqz = np.sin(2*np.pi*1447*runningTime)\n",
    "    totalfreqz = lofreqz + hifreqz\n",
    "    sound.append(lofreqz + hifreqz)\n",
    "    sound.append(delay)\n",
    "\n",
    "elif Input[index] == 'D' or 'd':\n",
    "    lofreqz = np.sin(2*np.pi*941*runningTime) \n",
    "    hifreqz = np.sin(2*np.pi*1633*runningTime)\n",
    "    totalfreqz = lofreqz + hifreqz\n",
    "    sound.append(lofreqz + hifreqz)\n",
    "    sound.append(delay)"
   ]
  }
 ],
 "metadata": {
  "kernelspec": {
   "display_name": "Python 3",
   "language": "python",
   "name": "python3"
  },
  "language_info": {
   "codemirror_mode": {
    "name": "ipython",
    "version": 3
   },
   "file_extension": ".py",
   "mimetype": "text/x-python",
   "name": "python",
   "nbconvert_exporter": "python",
   "pygments_lexer": "ipython3",
   "version": "3.6.1"
  }
 },
 "nbformat": 4,
 "nbformat_minor": 2
}
